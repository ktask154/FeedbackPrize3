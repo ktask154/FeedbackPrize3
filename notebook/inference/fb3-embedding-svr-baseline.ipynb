{
 "cells": [
  {
   "cell_type": "code",
   "execution_count": 1,
   "id": "1d6b6470",
   "metadata": {
    "_cell_guid": "b1076dfc-b9ad-4769-8c92-a6c4dae69d19",
    "_uuid": "8f2839f25d086af736a60e9eeb907d3b93b6e0e5",
    "execution": {
     "iopub.execute_input": "2022-09-24T07:19:57.039718Z",
     "iopub.status.busy": "2022-09-24T07:19:57.038493Z",
     "iopub.status.idle": "2022-09-24T07:20:00.283486Z",
     "shell.execute_reply": "2022-09-24T07:20:00.282447Z"
    },
    "papermill": {
     "duration": 3.259645,
     "end_time": "2022-09-24T07:20:00.286385",
     "exception": false,
     "start_time": "2022-09-24T07:19:57.026740",
     "status": "completed"
    },
    "tags": []
   },
   "outputs": [
    {
     "data": {
      "text/html": [
       "<style type='text/css'>\n",
       ".datatable table.frame { margin-bottom: 0; }\n",
       ".datatable table.frame thead { border-bottom: none; }\n",
       ".datatable table.frame tr.coltypes td {  color: #FFFFFF;  line-height: 6px;  padding: 0 0.5em;}\n",
       ".datatable .bool    { background: #DDDD99; }\n",
       ".datatable .object  { background: #565656; }\n",
       ".datatable .int     { background: #5D9E5D; }\n",
       ".datatable .float   { background: #4040CC; }\n",
       ".datatable .str     { background: #CC4040; }\n",
       ".datatable .time    { background: #40CC40; }\n",
       ".datatable .row_index {  background: var(--jp-border-color3);  border-right: 1px solid var(--jp-border-color0);  color: var(--jp-ui-font-color3);  font-size: 9px;}\n",
       ".datatable .frame tbody td { text-align: left; }\n",
       ".datatable .frame tr.coltypes .row_index {  background: var(--jp-border-color0);}\n",
       ".datatable th:nth-child(2) { padding-left: 12px; }\n",
       ".datatable .hellipsis {  color: var(--jp-cell-editor-border-color);}\n",
       ".datatable .vellipsis {  background: var(--jp-layout-color0);  color: var(--jp-cell-editor-border-color);}\n",
       ".datatable .na {  color: var(--jp-cell-editor-border-color);  font-size: 80%;}\n",
       ".datatable .sp {  opacity: 0.25;}\n",
       ".datatable .footer { font-size: 9px; }\n",
       ".datatable .frame_dimensions {  background: var(--jp-border-color3);  border-top: 1px solid var(--jp-border-color0);  color: var(--jp-ui-font-color3);  display: inline-block;  opacity: 0.6;  padding: 1px 10px 1px 5px;}\n",
       "</style>\n"
      ],
      "text/plain": [
       "<IPython.core.display.HTML object>"
      ]
     },
     "metadata": {},
     "output_type": "display_data"
    }
   ],
   "source": [
    "import numpy as np \n",
    "import pandas as pd \n",
    "import os, gc, re, warnings\n",
    "warnings.filterwarnings(\"ignore\")\n",
    "\n",
    "from sklearn.multioutput import MultiOutputRegressor\n",
    "from lightgbm import LGBMRegressor\n",
    "from catboost import CatBoostRegressor\n",
    "import xgboost as xgb\n",
    "\n",
    "from sklearn.linear_model import Ridge\n",
    "from sklearn.linear_model import LinearRegression"
   ]
  },
  {
   "cell_type": "code",
   "execution_count": 2,
   "id": "49aa3805",
   "metadata": {
    "execution": {
     "iopub.execute_input": "2022-09-24T07:20:00.300806Z",
     "iopub.status.busy": "2022-09-24T07:20:00.299290Z",
     "iopub.status.idle": "2022-09-24T07:20:00.540132Z",
     "shell.execute_reply": "2022-09-24T07:20:00.539121Z"
    },
    "papermill": {
     "duration": 0.249909,
     "end_time": "2022-09-24T07:20:00.542323",
     "exception": false,
     "start_time": "2022-09-24T07:20:00.292414",
     "status": "completed"
    },
    "tags": []
   },
   "outputs": [
    {
     "name": "stdout",
     "output_type": "stream",
     "text": [
      "Train shape: (3911, 9) Test shape: (3, 3) Test columns: Index(['text_id', 'full_text', 'src'], dtype='object')\n"
     ]
    },
    {
     "data": {
      "text/html": [
       "<div>\n",
       "<style scoped>\n",
       "    .dataframe tbody tr th:only-of-type {\n",
       "        vertical-align: middle;\n",
       "    }\n",
       "\n",
       "    .dataframe tbody tr th {\n",
       "        vertical-align: top;\n",
       "    }\n",
       "\n",
       "    .dataframe thead th {\n",
       "        text-align: right;\n",
       "    }\n",
       "</style>\n",
       "<table border=\"1\" class=\"dataframe\">\n",
       "  <thead>\n",
       "    <tr style=\"text-align: right;\">\n",
       "      <th></th>\n",
       "      <th>text_id</th>\n",
       "      <th>full_text</th>\n",
       "      <th>cohesion</th>\n",
       "      <th>syntax</th>\n",
       "      <th>vocabulary</th>\n",
       "      <th>phraseology</th>\n",
       "      <th>grammar</th>\n",
       "      <th>conventions</th>\n",
       "      <th>src</th>\n",
       "    </tr>\n",
       "  </thead>\n",
       "  <tbody>\n",
       "    <tr>\n",
       "      <th>0</th>\n",
       "      <td>0016926B079C</td>\n",
       "      <td>I think that students would benefit from learn...</td>\n",
       "      <td>3.5</td>\n",
       "      <td>3.5</td>\n",
       "      <td>3.0</td>\n",
       "      <td>3.0</td>\n",
       "      <td>4.0</td>\n",
       "      <td>3.0</td>\n",
       "      <td>train</td>\n",
       "    </tr>\n",
       "    <tr>\n",
       "      <th>1</th>\n",
       "      <td>0022683E9EA5</td>\n",
       "      <td>When a problem is a change you have to let it ...</td>\n",
       "      <td>2.5</td>\n",
       "      <td>2.5</td>\n",
       "      <td>3.0</td>\n",
       "      <td>2.0</td>\n",
       "      <td>2.0</td>\n",
       "      <td>2.5</td>\n",
       "      <td>train</td>\n",
       "    </tr>\n",
       "    <tr>\n",
       "      <th>2</th>\n",
       "      <td>00299B378633</td>\n",
       "      <td>Dear, Principal\\n\\nIf u change the school poli...</td>\n",
       "      <td>3.0</td>\n",
       "      <td>3.5</td>\n",
       "      <td>3.0</td>\n",
       "      <td>3.0</td>\n",
       "      <td>3.0</td>\n",
       "      <td>2.5</td>\n",
       "      <td>train</td>\n",
       "    </tr>\n",
       "    <tr>\n",
       "      <th>3</th>\n",
       "      <td>003885A45F42</td>\n",
       "      <td>The best time in life is when you become yours...</td>\n",
       "      <td>4.5</td>\n",
       "      <td>4.5</td>\n",
       "      <td>4.5</td>\n",
       "      <td>4.5</td>\n",
       "      <td>4.0</td>\n",
       "      <td>5.0</td>\n",
       "      <td>train</td>\n",
       "    </tr>\n",
       "    <tr>\n",
       "      <th>4</th>\n",
       "      <td>0049B1DF5CCC</td>\n",
       "      <td>Small act of kindness can impact in other peop...</td>\n",
       "      <td>2.5</td>\n",
       "      <td>3.0</td>\n",
       "      <td>3.0</td>\n",
       "      <td>3.0</td>\n",
       "      <td>2.5</td>\n",
       "      <td>2.5</td>\n",
       "      <td>train</td>\n",
       "    </tr>\n",
       "  </tbody>\n",
       "</table>\n",
       "</div>"
      ],
      "text/plain": [
       "        text_id                                          full_text  cohesion  \\\n",
       "0  0016926B079C  I think that students would benefit from learn...       3.5   \n",
       "1  0022683E9EA5  When a problem is a change you have to let it ...       2.5   \n",
       "2  00299B378633  Dear, Principal\\n\\nIf u change the school poli...       3.0   \n",
       "3  003885A45F42  The best time in life is when you become yours...       4.5   \n",
       "4  0049B1DF5CCC  Small act of kindness can impact in other peop...       2.5   \n",
       "\n",
       "   syntax  vocabulary  phraseology  grammar  conventions    src  \n",
       "0     3.5         3.0          3.0      4.0          3.0  train  \n",
       "1     2.5         3.0          2.0      2.0          2.5  train  \n",
       "2     3.5         3.0          3.0      3.0          2.5  train  \n",
       "3     4.5         4.5          4.5      4.0          5.0  train  \n",
       "4     3.0         3.0          3.0      2.5          2.5  train  "
      ]
     },
     "execution_count": 2,
     "metadata": {},
     "output_type": "execute_result"
    }
   ],
   "source": [
    "dftr = pd.read_csv(\"/kaggle/input/feedback-prize-english-language-learning/train.csv\")\n",
    "dftr[\"src\"]=\"train\"\n",
    "dfte = pd.read_csv(\"/kaggle/input/feedback-prize-english-language-learning/test.csv\")\n",
    "dfte[\"src\"]=\"test\"\n",
    "print('Train shape:',dftr.shape,'Test shape:',dfte.shape,'Test columns:',dfte.columns)\n",
    "df = pd.concat([dftr,dfte],ignore_index=True)\n",
    "\n",
    "dftr.head()"
   ]
  },
  {
   "cell_type": "code",
   "execution_count": 3,
   "id": "5b2ee2e5",
   "metadata": {
    "execution": {
     "iopub.execute_input": "2022-09-24T07:20:00.556993Z",
     "iopub.status.busy": "2022-09-24T07:20:00.555493Z",
     "iopub.status.idle": "2022-09-24T07:20:00.561286Z",
     "shell.execute_reply": "2022-09-24T07:20:00.560414Z"
    },
    "papermill": {
     "duration": 0.014724,
     "end_time": "2022-09-24T07:20:00.563368",
     "exception": false,
     "start_time": "2022-09-24T07:20:00.548644",
     "status": "completed"
    },
    "tags": []
   },
   "outputs": [],
   "source": [
    "target_cols = ['cohesion', 'syntax', 'vocabulary', 'phraseology', 'grammar', 'conventions']"
   ]
  },
  {
   "cell_type": "code",
   "execution_count": 4,
   "id": "f5cc7708",
   "metadata": {
    "execution": {
     "iopub.execute_input": "2022-09-24T07:20:00.577952Z",
     "iopub.status.busy": "2022-09-24T07:20:00.576480Z",
     "iopub.status.idle": "2022-09-24T07:20:00.761397Z",
     "shell.execute_reply": "2022-09-24T07:20:00.759858Z"
    },
    "papermill": {
     "duration": 0.195212,
     "end_time": "2022-09-24T07:20:00.764838",
     "exception": false,
     "start_time": "2022-09-24T07:20:00.569626",
     "status": "completed"
    },
    "tags": []
   },
   "outputs": [
    {
     "name": "stdout",
     "output_type": "stream",
     "text": [
      "Train samples per fold:\n"
     ]
    },
    {
     "data": {
      "text/plain": [
       "9.0     196\n",
       "5.0     196\n",
       "19.0    196\n",
       "13.0    196\n",
       "14.0    196\n",
       "6.0     196\n",
       "16.0    196\n",
       "4.0     196\n",
       "15.0    196\n",
       "12.0    196\n",
       "0.0     196\n",
       "11.0    195\n",
       "10.0    195\n",
       "1.0     195\n",
       "3.0     195\n",
       "18.0    195\n",
       "7.0     195\n",
       "17.0    195\n",
       "2.0     195\n",
       "8.0     195\n",
       "Name: FOLD, dtype: int64"
      ]
     },
     "execution_count": 4,
     "metadata": {},
     "output_type": "execute_result"
    }
   ],
   "source": [
    "import sys\n",
    "#os.system('pip install iterative-stratification==0.1.7')\n",
    "sys.path.append('../input/iterativestratification')\n",
    "from iterstrat.ml_stratifiers import MultilabelStratifiedKFold\n",
    "FOLDS = 20\n",
    "skf = MultilabelStratifiedKFold(n_splits=FOLDS, shuffle=True, random_state=42)\n",
    "for i,(train_index, val_index) in enumerate(skf.split(dftr,dftr[target_cols])):\n",
    "    dftr.loc[val_index,'FOLD'] = i\n",
    "print('Train samples per fold:')\n",
    "dftr.FOLD.value_counts()"
   ]
  },
  {
   "cell_type": "code",
   "execution_count": 5,
   "id": "80c501a4",
   "metadata": {
    "execution": {
     "iopub.execute_input": "2022-09-24T07:20:00.780187Z",
     "iopub.status.busy": "2022-09-24T07:20:00.778492Z",
     "iopub.status.idle": "2022-09-24T07:20:02.699018Z",
     "shell.execute_reply": "2022-09-24T07:20:02.698025Z"
    },
    "papermill": {
     "duration": 1.930317,
     "end_time": "2022-09-24T07:20:02.701579",
     "exception": false,
     "start_time": "2022-09-24T07:20:00.771262",
     "status": "completed"
    },
    "tags": []
   },
   "outputs": [],
   "source": [
    "from transformers import AutoModel,AutoTokenizer\n",
    "import torch\n",
    "import torch.nn.functional as F\n",
    "from tqdm import tqdm"
   ]
  },
  {
   "cell_type": "code",
   "execution_count": 6,
   "id": "b5099c60",
   "metadata": {
    "execution": {
     "iopub.execute_input": "2022-09-24T07:20:02.716806Z",
     "iopub.status.busy": "2022-09-24T07:20:02.716003Z",
     "iopub.status.idle": "2022-09-24T07:20:02.723086Z",
     "shell.execute_reply": "2022-09-24T07:20:02.722218Z"
    },
    "papermill": {
     "duration": 0.017076,
     "end_time": "2022-09-24T07:20:02.725357",
     "exception": false,
     "start_time": "2022-09-24T07:20:02.708281",
     "status": "completed"
    },
    "tags": []
   },
   "outputs": [],
   "source": [
    "def mean_pooling(model_output, attention_mask):\n",
    "    token_embeddings = model_output.last_hidden_state.detach().cpu()\n",
    "    input_mask_expanded = (\n",
    "        attention_mask.unsqueeze(-1).expand(token_embeddings.size()).float()\n",
    "    )\n",
    "    return torch.sum(token_embeddings * input_mask_expanded, 1) / torch.clamp(\n",
    "        input_mask_expanded.sum(1), min=1e-9\n",
    "    )"
   ]
  },
  {
   "cell_type": "code",
   "execution_count": 7,
   "id": "088e2e32",
   "metadata": {
    "execution": {
     "iopub.execute_input": "2022-09-24T07:20:02.738840Z",
     "iopub.status.busy": "2022-09-24T07:20:02.738483Z",
     "iopub.status.idle": "2022-09-24T07:20:02.749816Z",
     "shell.execute_reply": "2022-09-24T07:20:02.748951Z"
    },
    "papermill": {
     "duration": 0.020527,
     "end_time": "2022-09-24T07:20:02.751950",
     "exception": false,
     "start_time": "2022-09-24T07:20:02.731423",
     "status": "completed"
    },
    "tags": []
   },
   "outputs": [],
   "source": [
    "BATCH_SIZE = 8\n",
    "\n",
    "class EmbedDataset(torch.utils.data.Dataset):\n",
    "    def __init__(self,df):\n",
    "        self.df = df.reset_index(drop=True)\n",
    "    def __len__(self):\n",
    "        return len(self.df)\n",
    "    def __getitem__(self,idx):\n",
    "        text = self.df.loc[idx,\"full_text\"]\n",
    "        tokens = tokenizer(\n",
    "                text,\n",
    "                None,\n",
    "                add_special_tokens=True,\n",
    "                padding='max_length',\n",
    "                truncation=True,\n",
    "                max_length=MAX_LEN,return_tensors=\"pt\")\n",
    "        tokens = {k:v.squeeze(0) for k,v in tokens.items()}\n",
    "        return tokens\n",
    "\n",
    "ds_tr = EmbedDataset(dftr)\n",
    "embed_dataloader_tr = torch.utils.data.DataLoader(ds_tr,\\\n",
    "                        batch_size=BATCH_SIZE,\\\n",
    "                        shuffle=False)\n",
    "ds_te = EmbedDataset(dfte)\n",
    "embed_dataloader_te = torch.utils.data.DataLoader(ds_te,\\\n",
    "                        batch_size=BATCH_SIZE,\\\n",
    "                        shuffle=False)"
   ]
  },
  {
   "cell_type": "code",
   "execution_count": 8,
   "id": "8ba0fa5f",
   "metadata": {
    "execution": {
     "iopub.execute_input": "2022-09-24T07:20:02.766132Z",
     "iopub.status.busy": "2022-09-24T07:20:02.765348Z",
     "iopub.status.idle": "2022-09-24T07:20:02.776185Z",
     "shell.execute_reply": "2022-09-24T07:20:02.775376Z"
    },
    "papermill": {
     "duration": 0.019981,
     "end_time": "2022-09-24T07:20:02.778132",
     "exception": false,
     "start_time": "2022-09-24T07:20:02.758151",
     "status": "completed"
    },
    "tags": []
   },
   "outputs": [],
   "source": [
    "tokenizer = None\n",
    "MAX_LEN = 640\n",
    "\n",
    "def get_embeddings(MODEL_NM='', MAX=640, BATCH_SIZE=8, verbose=True):\n",
    "    global tokenizer, MAX_LEN\n",
    "    DEVICE=\"cuda\"\n",
    "    model = AutoModel.from_pretrained( MODEL_NM )\n",
    "    tokenizer = AutoTokenizer.from_pretrained( MODEL_NM )\n",
    "    MAX_LEN = MAX\n",
    "    \n",
    "    model = model.to(DEVICE)\n",
    "    model.eval()\n",
    "    all_train_text_feats = []\n",
    "    for batch in tqdm(embed_dataloader_tr,total=len(embed_dataloader_tr)):\n",
    "        input_ids = batch[\"input_ids\"].to(DEVICE)\n",
    "        attention_mask = batch[\"attention_mask\"].to(DEVICE)\n",
    "        with torch.no_grad():\n",
    "            model_output = model(input_ids=input_ids,attention_mask=attention_mask)\n",
    "        sentence_embeddings = mean_pooling(model_output, attention_mask.detach().cpu())\n",
    "        # Normalize the embeddings\n",
    "        sentence_embeddings = F.normalize(sentence_embeddings, p=2, dim=1)\n",
    "        sentence_embeddings =  sentence_embeddings.squeeze(0).detach().cpu().numpy()\n",
    "        all_train_text_feats.extend(sentence_embeddings)\n",
    "    all_train_text_feats = np.array(all_train_text_feats)\n",
    "    if verbose:\n",
    "        print('Train embeddings shape',all_train_text_feats.shape)\n",
    "        \n",
    "    te_text_feats = []\n",
    "    for batch in tqdm(embed_dataloader_te,total=len(embed_dataloader_te)):\n",
    "        input_ids = batch[\"input_ids\"].to(DEVICE)\n",
    "        attention_mask = batch[\"attention_mask\"].to(DEVICE)\n",
    "        with torch.no_grad():\n",
    "            model_output = model(input_ids=input_ids,attention_mask=attention_mask)\n",
    "        sentence_embeddings = mean_pooling(model_output, attention_mask.detach().cpu())\n",
    "        # Normalize the embeddings\n",
    "        sentence_embeddings = F.normalize(sentence_embeddings, p=2, dim=1)\n",
    "        sentence_embeddings =  sentence_embeddings.squeeze(0).detach().cpu().numpy()\n",
    "        te_text_feats.extend(sentence_embeddings)\n",
    "    te_text_feats = np.array(te_text_feats)\n",
    "    if verbose:\n",
    "        print('Test embeddings shape',te_text_feats.shape)\n",
    "        \n",
    "    return all_train_text_feats, te_text_feats"
   ]
  },
  {
   "cell_type": "code",
   "execution_count": 9,
   "id": "a2046e0c",
   "metadata": {
    "execution": {
     "iopub.execute_input": "2022-09-24T07:20:02.791384Z",
     "iopub.status.busy": "2022-09-24T07:20:02.790854Z",
     "iopub.status.idle": "2022-09-24T07:23:07.049975Z",
     "shell.execute_reply": "2022-09-24T07:23:07.048748Z"
    },
    "papermill": {
     "duration": 184.27052,
     "end_time": "2022-09-24T07:23:07.054560",
     "exception": false,
     "start_time": "2022-09-24T07:20:02.784040",
     "status": "completed"
    },
    "tags": []
   },
   "outputs": [
    {
     "name": "stderr",
     "output_type": "stream",
     "text": [
      "Some weights of the model checkpoint at ../input/debertav3base were not used when initializing DebertaV2Model: ['mask_predictions.classifier.weight', 'mask_predictions.dense.bias', 'mask_predictions.LayerNorm.bias', 'lm_predictions.lm_head.bias', 'lm_predictions.lm_head.LayerNorm.weight', 'mask_predictions.dense.weight', 'mask_predictions.classifier.bias', 'lm_predictions.lm_head.dense.weight', 'mask_predictions.LayerNorm.weight', 'lm_predictions.lm_head.dense.bias', 'lm_predictions.lm_head.LayerNorm.bias']\n",
      "- This IS expected if you are initializing DebertaV2Model from the checkpoint of a model trained on another task or with another architecture (e.g. initializing a BertForSequenceClassification model from a BertForPreTraining model).\n",
      "- This IS NOT expected if you are initializing DebertaV2Model from the checkpoint of a model that you expect to be exactly identical (initializing a BertForSequenceClassification model from a BertForSequenceClassification model).\n",
      "Special tokens have been added in the vocabulary, make sure the associated word embeddings are fine-tuned or trained.\n",
      "Special tokens have been added in the vocabulary, make sure the associated word embeddings are fine-tuned or trained.\n",
      "100%|██████████| 489/489 [02:53<00:00,  2.82it/s]\n"
     ]
    },
    {
     "name": "stdout",
     "output_type": "stream",
     "text": [
      "Train embeddings shape (3911, 768)\n"
     ]
    },
    {
     "name": "stderr",
     "output_type": "stream",
     "text": [
      "100%|██████████| 1/1 [00:00<00:00,  6.67it/s]"
     ]
    },
    {
     "name": "stdout",
     "output_type": "stream",
     "text": [
      "Test embeddings shape (3, 768)\n"
     ]
    },
    {
     "name": "stderr",
     "output_type": "stream",
     "text": [
      "\n"
     ]
    }
   ],
   "source": [
    "MODEL_NM = '../input/debertav3base'\n",
    "all_train_text_feats, te_text_feats = get_embeddings(MODEL_NM)"
   ]
  },
  {
   "cell_type": "code",
   "execution_count": 10,
   "id": "b94aaba0",
   "metadata": {
    "execution": {
     "iopub.execute_input": "2022-09-24T07:23:07.119182Z",
     "iopub.status.busy": "2022-09-24T07:23:07.118209Z",
     "iopub.status.idle": "2022-09-24T07:30:55.412840Z",
     "shell.execute_reply": "2022-09-24T07:30:55.411711Z"
    },
    "papermill": {
     "duration": 468.33122,
     "end_time": "2022-09-24T07:30:55.417554",
     "exception": false,
     "start_time": "2022-09-24T07:23:07.086334",
     "status": "completed"
    },
    "tags": []
   },
   "outputs": [
    {
     "name": "stderr",
     "output_type": "stream",
     "text": [
      "Some weights of the model checkpoint at ../input/deberta-v3-large/deberta-v3-large were not used when initializing DebertaV2Model: ['mask_predictions.classifier.weight', 'mask_predictions.dense.bias', 'mask_predictions.LayerNorm.bias', 'lm_predictions.lm_head.bias', 'lm_predictions.lm_head.LayerNorm.weight', 'mask_predictions.dense.weight', 'mask_predictions.classifier.bias', 'lm_predictions.lm_head.dense.bias', 'lm_predictions.lm_head.dense.weight', 'mask_predictions.LayerNorm.weight', 'lm_predictions.lm_head.LayerNorm.bias']\n",
      "- This IS expected if you are initializing DebertaV2Model from the checkpoint of a model trained on another task or with another architecture (e.g. initializing a BertForSequenceClassification model from a BertForPreTraining model).\n",
      "- This IS NOT expected if you are initializing DebertaV2Model from the checkpoint of a model that you expect to be exactly identical (initializing a BertForSequenceClassification model from a BertForSequenceClassification model).\n",
      "Special tokens have been added in the vocabulary, make sure the associated word embeddings are fine-tuned or trained.\n",
      "Special tokens have been added in the vocabulary, make sure the associated word embeddings are fine-tuned or trained.\n",
      "100%|██████████| 489/489 [07:33<00:00,  1.08it/s]\n"
     ]
    },
    {
     "name": "stdout",
     "output_type": "stream",
     "text": [
      "Train embeddings shape (3911, 1024)\n"
     ]
    },
    {
     "name": "stderr",
     "output_type": "stream",
     "text": [
      "100%|██████████| 1/1 [00:00<00:00,  2.39it/s]"
     ]
    },
    {
     "name": "stdout",
     "output_type": "stream",
     "text": [
      "Test embeddings shape (3, 1024)\n"
     ]
    },
    {
     "name": "stderr",
     "output_type": "stream",
     "text": [
      "\n"
     ]
    }
   ],
   "source": [
    "MODEL_NM = '../input/deberta-v3-large/deberta-v3-large'\n",
    "all_train_text_feats2, te_text_feats2 = get_embeddings(MODEL_NM)"
   ]
  },
  {
   "cell_type": "code",
   "execution_count": 11,
   "id": "228dcb81",
   "metadata": {
    "execution": {
     "iopub.execute_input": "2022-09-24T07:30:55.528877Z",
     "iopub.status.busy": "2022-09-24T07:30:55.528217Z",
     "iopub.status.idle": "2022-09-24T07:38:54.258425Z",
     "shell.execute_reply": "2022-09-24T07:38:54.257209Z"
    },
    "papermill": {
     "duration": 478.787807,
     "end_time": "2022-09-24T07:38:54.260859",
     "exception": false,
     "start_time": "2022-09-24T07:30:55.473052",
     "status": "completed"
    },
    "tags": []
   },
   "outputs": [
    {
     "name": "stderr",
     "output_type": "stream",
     "text": [
      "Some weights of the model checkpoint at ../input/huggingface-deberta-variants/deberta-large/deberta-large were not used when initializing DebertaModel: ['lm_predictions.lm_head.bias', 'lm_predictions.lm_head.LayerNorm.weight', 'lm_predictions.lm_head.dense.bias', 'lm_predictions.lm_head.dense.weight', 'lm_predictions.lm_head.LayerNorm.bias', 'config']\n",
      "- This IS expected if you are initializing DebertaModel from the checkpoint of a model trained on another task or with another architecture (e.g. initializing a BertForSequenceClassification model from a BertForPreTraining model).\n",
      "- This IS NOT expected if you are initializing DebertaModel from the checkpoint of a model that you expect to be exactly identical (initializing a BertForSequenceClassification model from a BertForSequenceClassification model).\n",
      "100%|██████████| 489/489 [07:39<00:00,  1.07it/s]\n"
     ]
    },
    {
     "name": "stdout",
     "output_type": "stream",
     "text": [
      "Train embeddings shape (3911, 1024)\n"
     ]
    },
    {
     "name": "stderr",
     "output_type": "stream",
     "text": [
      "100%|██████████| 1/1 [00:00<00:00,  2.49it/s]"
     ]
    },
    {
     "name": "stdout",
     "output_type": "stream",
     "text": [
      "Test embeddings shape (3, 1024)\n"
     ]
    },
    {
     "name": "stderr",
     "output_type": "stream",
     "text": [
      "\n"
     ]
    }
   ],
   "source": [
    "MODEL_NM = '../input/huggingface-deberta-variants/deberta-large/deberta-large'\n",
    "all_train_text_feats3, te_text_feats3 = get_embeddings(MODEL_NM)"
   ]
  },
  {
   "cell_type": "code",
   "execution_count": 12,
   "id": "584a33e3",
   "metadata": {
    "execution": {
     "iopub.execute_input": "2022-09-24T07:38:54.426327Z",
     "iopub.status.busy": "2022-09-24T07:38:54.425378Z",
     "iopub.status.idle": "2022-09-24T07:45:02.956739Z",
     "shell.execute_reply": "2022-09-24T07:45:02.955465Z"
    },
    "papermill": {
     "duration": 368.617468,
     "end_time": "2022-09-24T07:45:02.960040",
     "exception": false,
     "start_time": "2022-09-24T07:38:54.342572",
     "status": "completed"
    },
    "tags": []
   },
   "outputs": [
    {
     "name": "stderr",
     "output_type": "stream",
     "text": [
      "Some weights of the model checkpoint at ../input/huggingface-deberta-variants/deberta-large-mnli/deberta-large-mnli were not used when initializing DebertaModel: ['pooler.dense.weight', 'pooler.dense.bias', 'classifier.bias', 'classifier.weight', 'config']\n",
      "- This IS expected if you are initializing DebertaModel from the checkpoint of a model trained on another task or with another architecture (e.g. initializing a BertForSequenceClassification model from a BertForPreTraining model).\n",
      "- This IS NOT expected if you are initializing DebertaModel from the checkpoint of a model that you expect to be exactly identical (initializing a BertForSequenceClassification model from a BertForSequenceClassification model).\n",
      "100%|██████████| 489/489 [05:46<00:00,  1.41it/s]\n"
     ]
    },
    {
     "name": "stdout",
     "output_type": "stream",
     "text": [
      "Train embeddings shape (3911, 1024)\n"
     ]
    },
    {
     "name": "stderr",
     "output_type": "stream",
     "text": [
      "100%|██████████| 1/1 [00:00<00:00,  3.43it/s]"
     ]
    },
    {
     "name": "stdout",
     "output_type": "stream",
     "text": [
      "Test embeddings shape (3, 1024)\n"
     ]
    },
    {
     "name": "stderr",
     "output_type": "stream",
     "text": [
      "\n"
     ]
    }
   ],
   "source": [
    "MODEL_NM = '../input/huggingface-deberta-variants/deberta-large-mnli/deberta-large-mnli'\n",
    "all_train_text_feats4, te_text_feats4 = get_embeddings(MODEL_NM, MAX=512)"
   ]
  },
  {
   "cell_type": "code",
   "execution_count": 13,
   "id": "cf6b6650",
   "metadata": {
    "execution": {
     "iopub.execute_input": "2022-09-24T07:45:03.175351Z",
     "iopub.status.busy": "2022-09-24T07:45:03.174532Z",
     "iopub.status.idle": "2022-09-24T07:56:41.272023Z",
     "shell.execute_reply": "2022-09-24T07:56:41.270969Z"
    },
    "papermill": {
     "duration": 698.207522,
     "end_time": "2022-09-24T07:56:41.275048",
     "exception": false,
     "start_time": "2022-09-24T07:45:03.067526",
     "status": "completed"
    },
    "tags": []
   },
   "outputs": [
    {
     "name": "stderr",
     "output_type": "stream",
     "text": [
      "Some weights of the model checkpoint at ../input/huggingface-deberta-variants/deberta-xlarge/deberta-xlarge were not used when initializing DebertaModel: ['lm_predictions.lm_head.bias', 'lm_predictions.lm_head.LayerNorm.weight', 'lm_predictions.lm_head.dense.bias', 'lm_predictions.lm_head.dense.weight', 'lm_predictions.lm_head.LayerNorm.bias']\n",
      "- This IS expected if you are initializing DebertaModel from the checkpoint of a model trained on another task or with another architecture (e.g. initializing a BertForSequenceClassification model from a BertForPreTraining model).\n",
      "- This IS NOT expected if you are initializing DebertaModel from the checkpoint of a model that you expect to be exactly identical (initializing a BertForSequenceClassification model from a BertForSequenceClassification model).\n",
      "100%|██████████| 489/489 [11:15<00:00,  1.38s/it]\n"
     ]
    },
    {
     "name": "stdout",
     "output_type": "stream",
     "text": [
      "Train embeddings shape (3911, 1024)\n"
     ]
    },
    {
     "name": "stderr",
     "output_type": "stream",
     "text": [
      "100%|██████████| 1/1 [00:00<00:00,  1.77it/s]"
     ]
    },
    {
     "name": "stdout",
     "output_type": "stream",
     "text": [
      "Test embeddings shape (3, 1024)\n"
     ]
    },
    {
     "name": "stderr",
     "output_type": "stream",
     "text": [
      "\n"
     ]
    }
   ],
   "source": [
    "MODEL_NM = '../input/huggingface-deberta-variants/deberta-xlarge/deberta-xlarge'\n",
    "all_train_text_feats5, te_text_feats5 = get_embeddings(MODEL_NM, MAX=512)"
   ]
  },
  {
   "cell_type": "code",
   "execution_count": 14,
   "id": "6ce4dbe9",
   "metadata": {
    "execution": {
     "iopub.execute_input": "2022-09-24T07:56:41.586426Z",
     "iopub.status.busy": "2022-09-24T07:56:41.585507Z",
     "iopub.status.idle": "2022-09-24T08:00:50.600170Z",
     "shell.execute_reply": "2022-09-24T08:00:50.598270Z"
    },
    "papermill": {
     "duration": 249.145292,
     "end_time": "2022-09-24T08:00:50.602797",
     "exception": false,
     "start_time": "2022-09-24T07:56:41.457505",
     "status": "completed"
    },
    "tags": []
   },
   "outputs": [
    {
     "name": "stderr",
     "output_type": "stream",
     "text": [
      "Some weights of the model checkpoint at ../input/robertalarge were not used when initializing RobertaModel: ['lm_head.layer_norm.weight', 'lm_head.dense.bias', 'lm_head.dense.weight', 'lm_head.layer_norm.bias', 'lm_head.decoder.weight', 'lm_head.bias']\n",
      "- This IS expected if you are initializing RobertaModel from the checkpoint of a model trained on another task or with another architecture (e.g. initializing a BertForSequenceClassification model from a BertForPreTraining model).\n",
      "- This IS NOT expected if you are initializing RobertaModel from the checkpoint of a model that you expect to be exactly identical (initializing a BertForSequenceClassification model from a BertForSequenceClassification model).\n",
      "100%|██████████| 489/489 [03:50<00:00,  2.13it/s]\n"
     ]
    },
    {
     "name": "stdout",
     "output_type": "stream",
     "text": [
      "Train embeddings shape (3911, 1024)\n"
     ]
    },
    {
     "name": "stderr",
     "output_type": "stream",
     "text": [
      "100%|██████████| 1/1 [00:00<00:00,  5.36it/s]"
     ]
    },
    {
     "name": "stdout",
     "output_type": "stream",
     "text": [
      "Test embeddings shape (3, 1024)\n"
     ]
    },
    {
     "name": "stderr",
     "output_type": "stream",
     "text": [
      "\n"
     ]
    }
   ],
   "source": [
    "MODEL_NM = '../input/robertalarge'\n",
    "all_train_text_feats6, te_text_feats6 = get_embeddings(MODEL_NM,MAX=512)"
   ]
  },
  {
   "cell_type": "code",
   "execution_count": 15,
   "id": "62b5e732",
   "metadata": {
    "execution": {
     "iopub.execute_input": "2022-09-24T08:00:50.975219Z",
     "iopub.status.busy": "2022-09-24T08:00:50.973744Z",
     "iopub.status.idle": "2022-09-24T08:05:37.552290Z",
     "shell.execute_reply": "2022-09-24T08:05:37.550780Z"
    },
    "papermill": {
     "duration": 286.799424,
     "end_time": "2022-09-24T08:05:37.557171",
     "exception": false,
     "start_time": "2022-09-24T08:00:50.757747",
     "status": "completed"
    },
    "tags": []
   },
   "outputs": [
    {
     "name": "stderr",
     "output_type": "stream",
     "text": [
      "100%|██████████| 489/489 [04:28<00:00,  1.82it/s]\n"
     ]
    },
    {
     "name": "stdout",
     "output_type": "stream",
     "text": [
      "Train embeddings shape (3911, 1024)\n"
     ]
    },
    {
     "name": "stderr",
     "output_type": "stream",
     "text": [
      "100%|██████████| 1/1 [00:00<00:00,  4.02it/s]"
     ]
    },
    {
     "name": "stdout",
     "output_type": "stream",
     "text": [
      "Test embeddings shape (3, 1024)\n"
     ]
    },
    {
     "name": "stderr",
     "output_type": "stream",
     "text": [
      "\n"
     ]
    }
   ],
   "source": [
    "MODEL_NM = '../input/funneltransformerlarge'\n",
    "all_train_text_feats7, te_text_feats7 = get_embeddings(MODEL_NM)"
   ]
  },
  {
   "cell_type": "code",
   "execution_count": 16,
   "id": "03c9e546",
   "metadata": {
    "execution": {
     "iopub.execute_input": "2022-09-24T08:05:38.005466Z",
     "iopub.status.busy": "2022-09-24T08:05:38.005114Z",
     "iopub.status.idle": "2022-09-24T08:05:38.009377Z",
     "shell.execute_reply": "2022-09-24T08:05:38.008364Z"
    },
    "papermill": {
     "duration": 0.234649,
     "end_time": "2022-09-24T08:05:38.011857",
     "exception": false,
     "start_time": "2022-09-24T08:05:37.777208",
     "status": "completed"
    },
    "tags": []
   },
   "outputs": [],
   "source": [
    "#MODEL_NM = '../input/deberta-v2-xlarge'\n",
    "#all_train_text_feats8, te_text_feats8 = get_embeddings(MODEL_NM, MAX=512)"
   ]
  },
  {
   "cell_type": "code",
   "execution_count": 17,
   "id": "46d32600",
   "metadata": {
    "execution": {
     "iopub.execute_input": "2022-09-24T08:05:38.368527Z",
     "iopub.status.busy": "2022-09-24T08:05:38.368179Z",
     "iopub.status.idle": "2022-09-24T08:05:38.372512Z",
     "shell.execute_reply": "2022-09-24T08:05:38.371437Z"
    },
    "papermill": {
     "duration": 0.187245,
     "end_time": "2022-09-24T08:05:38.375060",
     "exception": false,
     "start_time": "2022-09-24T08:05:38.187815",
     "status": "completed"
    },
    "tags": []
   },
   "outputs": [],
   "source": [
    "#MODEL_NM = '../input/facebook-bart-large-mnli'\n",
    "#all_train_text_feats9, te_text_feats9 = get_embeddings(MODEL_NM, MAX=512)"
   ]
  },
  {
   "cell_type": "code",
   "execution_count": 18,
   "id": "c6ab6223",
   "metadata": {
    "execution": {
     "iopub.execute_input": "2022-09-24T08:05:38.734570Z",
     "iopub.status.busy": "2022-09-24T08:05:38.734218Z",
     "iopub.status.idle": "2022-09-24T08:05:39.003251Z",
     "shell.execute_reply": "2022-09-24T08:05:39.001589Z"
    },
    "papermill": {
     "duration": 0.451642,
     "end_time": "2022-09-24T08:05:39.006169",
     "exception": false,
     "start_time": "2022-09-24T08:05:38.554527",
     "status": "completed"
    },
    "tags": []
   },
   "outputs": [
    {
     "name": "stdout",
     "output_type": "stream",
     "text": [
      "Our concatenated embeddings have shape (3911, 6912)\n"
     ]
    }
   ],
   "source": [
    "all_train_text_feats = np.concatenate([all_train_text_feats,\n",
    "                                       all_train_text_feats2,\n",
    "                                       all_train_text_feats3,\n",
    "                                       all_train_text_feats4,\n",
    "                                       all_train_text_feats5,\n",
    "                                       all_train_text_feats6,\n",
    "                                       all_train_text_feats7,\n",
    "                                       \n",
    "                                       #all_train_text_feats8,\n",
    "                                       #all_train_text_feats9\n",
    "                                      ]\n",
    "                                      ,axis=1)\n",
    "\n",
    "te_text_feats = np.concatenate([te_text_feats,\n",
    "                                te_text_feats2,\n",
    "                                te_text_feats3,\n",
    "                                te_text_feats4,\n",
    "                                te_text_feats5,\n",
    "                                te_text_feats6,\n",
    "                                te_text_feats7,\n",
    "                                \n",
    "                                #te_text_feats8,\n",
    "                                #te_text_feats9\n",
    "                               ]\n",
    "                               ,axis=1)\n",
    "\n",
    "\n",
    "del all_train_text_feats2, te_text_feats2\n",
    "del all_train_text_feats3, te_text_feats3\n",
    "del all_train_text_feats4, te_text_feats4\n",
    "del all_train_text_feats5, te_text_feats5\n",
    "del all_train_text_feats6, te_text_feats6\n",
    "del all_train_text_feats7, te_text_feats7\n",
    "\n",
    "#del all_train_text_feats8, te_text_feats8\n",
    "#del all_train_text_feats9, te_text_feats9\n",
    "gc.collect()\n",
    "\n",
    "print('Our concatenated embeddings have shape', all_train_text_feats.shape )"
   ]
  },
  {
   "cell_type": "code",
   "execution_count": 19,
   "id": "00a1a0ee",
   "metadata": {
    "execution": {
     "iopub.execute_input": "2022-09-24T08:05:39.363206Z",
     "iopub.status.busy": "2022-09-24T08:05:39.362280Z",
     "iopub.status.idle": "2022-09-24T08:05:41.224900Z",
     "shell.execute_reply": "2022-09-24T08:05:41.223553Z"
    },
    "papermill": {
     "duration": 2.044723,
     "end_time": "2022-09-24T08:05:41.227836",
     "exception": false,
     "start_time": "2022-09-24T08:05:39.183113",
     "status": "completed"
    },
    "tags": []
   },
   "outputs": [
    {
     "name": "stdout",
     "output_type": "stream",
     "text": [
      "RAPIDS version 21.10.02\n"
     ]
    }
   ],
   "source": [
    "from cuml.svm import SVR\n",
    "import cuml\n",
    "print('RAPIDS version',cuml.__version__)"
   ]
  },
  {
   "cell_type": "code",
   "execution_count": 20,
   "id": "fef7220b",
   "metadata": {
    "execution": {
     "iopub.execute_input": "2022-09-24T08:05:41.591562Z",
     "iopub.status.busy": "2022-09-24T08:05:41.589588Z",
     "iopub.status.idle": "2022-09-24T08:06:21.024768Z",
     "shell.execute_reply": "2022-09-24T08:06:21.023136Z"
    },
    "papermill": {
     "duration": 39.617663,
     "end_time": "2022-09-24T08:06:21.026927",
     "exception": false,
     "start_time": "2022-09-24T08:05:41.409264",
     "status": "completed"
    },
    "tags": []
   },
   "outputs": [
    {
     "name": "stdout",
     "output_type": "stream",
     "text": [
      "#########################\n",
      "### Fold 1\n",
      "#########################\n",
      "cohesion , syntax , vocabulary , phraseology , grammar , conventions , \n",
      "Fold : 1 SVR RSME score: 0.45077301124881014\n",
      "#########################\n",
      "### Fold 2\n",
      "#########################\n",
      "cohesion , syntax , vocabulary , phraseology , grammar , conventions , \n",
      "Fold : 2 SVR RSME score: 0.43390058472305365\n",
      "#########################\n",
      "### Fold 3\n",
      "#########################\n",
      "cohesion , syntax , vocabulary , phraseology , grammar , conventions , \n",
      "Fold : 3 SVR RSME score: 0.44997237641018634\n",
      "#########################\n",
      "### Fold 4\n",
      "#########################\n",
      "cohesion , syntax , vocabulary , phraseology , grammar , conventions , \n",
      "Fold : 4 SVR RSME score: 0.45984282310334784\n",
      "#########################\n",
      "### Fold 5\n",
      "#########################\n",
      "cohesion , syntax , vocabulary , phraseology , grammar , conventions , \n",
      "Fold : 5 SVR RSME score: 0.4391110737328643\n",
      "#########################\n",
      "### Fold 6\n",
      "#########################\n",
      "cohesion , syntax , vocabulary , phraseology , grammar , conventions , \n",
      "Fold : 6 SVR RSME score: 0.44277076215598643\n",
      "#########################\n",
      "### Fold 7\n",
      "#########################\n",
      "cohesion , syntax , vocabulary , phraseology , grammar , conventions , \n",
      "Fold : 7 SVR RSME score: 0.4517973162646159\n",
      "#########################\n",
      "### Fold 8\n",
      "#########################\n",
      "cohesion , syntax , vocabulary , phraseology , grammar , conventions , \n",
      "Fold : 8 SVR RSME score: 0.46178598350894706\n",
      "#########################\n",
      "### Fold 9\n",
      "#########################\n",
      "cohesion , syntax , vocabulary , phraseology , grammar , conventions , \n",
      "Fold : 9 SVR RSME score: 0.44438904763173975\n",
      "#########################\n",
      "### Fold 10\n",
      "#########################\n",
      "cohesion , syntax , vocabulary , phraseology , grammar , conventions , \n",
      "Fold : 10 SVR RSME score: 0.4707364707528123\n",
      "#########################\n",
      "### Fold 11\n",
      "#########################\n",
      "cohesion , syntax , vocabulary , phraseology , grammar , conventions , \n",
      "Fold : 11 SVR RSME score: 0.4399736116942443\n",
      "#########################\n",
      "### Fold 12\n",
      "#########################\n",
      "cohesion , syntax , vocabulary , phraseology , grammar , conventions , \n",
      "Fold : 12 SVR RSME score: 0.4558870045376075\n",
      "#########################\n",
      "### Fold 13\n",
      "#########################\n",
      "cohesion , syntax , vocabulary , phraseology , grammar , conventions , \n",
      "Fold : 13 SVR RSME score: 0.4460816944496548\n",
      "#########################\n",
      "### Fold 14\n",
      "#########################\n",
      "cohesion , syntax , vocabulary , phraseology , grammar , conventions , \n",
      "Fold : 14 SVR RSME score: 0.4373440725747985\n",
      "#########################\n",
      "### Fold 15\n",
      "#########################\n",
      "cohesion , syntax , vocabulary , phraseology , grammar , conventions , \n",
      "Fold : 15 SVR RSME score: 0.46613560069103205\n",
      "#########################\n",
      "### Fold 16\n",
      "#########################\n",
      "cohesion , syntax , vocabulary , phraseology , grammar , conventions , \n",
      "Fold : 16 SVR RSME score: 0.46184641484128813\n",
      "#########################\n",
      "### Fold 17\n",
      "#########################\n",
      "cohesion , syntax , vocabulary , phraseology , grammar , conventions , \n",
      "Fold : 17 SVR RSME score: 0.441984089926794\n",
      "#########################\n",
      "### Fold 18\n",
      "#########################\n",
      "cohesion , syntax , vocabulary , phraseology , grammar , conventions , \n",
      "Fold : 18 SVR RSME score: 0.44349835545861077\n",
      "#########################\n",
      "### Fold 19\n",
      "#########################\n",
      "cohesion , syntax , vocabulary , phraseology , grammar , conventions , \n",
      "Fold : 19 SVR RSME score: 0.4467784587673609\n",
      "#########################\n",
      "### Fold 20\n",
      "#########################\n",
      "cohesion , syntax , vocabulary , phraseology , grammar , conventions , \n",
      "Fold : 20 SVR RSME score: 0.4468487000373231\n",
      "#########################\n",
      "SVR Overall CV RSME = 0.4495728726255539\n"
     ]
    }
   ],
   "source": [
    "from sklearn.metrics import mean_squared_error\n",
    "\n",
    "preds_svr = []\n",
    "scores = []\n",
    "def comp_score(y_true,y_pred):\n",
    "    rmse_scores = []\n",
    "    for i in range(len(target_cols)):\n",
    "        rmse_scores.append(np.sqrt(mean_squared_error(y_true[:,i],y_pred[:,i])))\n",
    "    return np.mean(rmse_scores)\n",
    "\n",
    "#for fold in tqdm(range(FOLDS),total=FOLDS):\n",
    "for fold in range(FOLDS):\n",
    "    print('#'*25)\n",
    "    print('### Fold',fold+1)\n",
    "    print('#'*25)\n",
    "    \n",
    "    dftr_ = dftr[dftr[\"FOLD\"]!=fold]\n",
    "    dfev_ = dftr[dftr[\"FOLD\"]==fold]\n",
    "    \n",
    "    tr_text_feats = all_train_text_feats[list(dftr_.index),:]\n",
    "    ev_text_feats = all_train_text_feats[list(dfev_.index),:]\n",
    "    \n",
    "    ev_preds = np.zeros((len(ev_text_feats),6))\n",
    "    test_preds = np.zeros((len(te_text_feats),6))\n",
    "    for i,t in enumerate(target_cols):\n",
    "        print(t,', ',end='')\n",
    "        clf = SVR(C=1)\n",
    "        clf.fit(tr_text_feats, dftr_[t].values)\n",
    "        ev_preds[:,i] = clf.predict(ev_text_feats)\n",
    "        test_preds[:,i] = clf.predict(te_text_feats)\n",
    "    print()\n",
    "    score = comp_score(dfev_[target_cols].values,ev_preds)\n",
    "    scores.append(score)\n",
    "    print(\"Fold : {} SVR RSME score: {}\".format(fold+1,score))\n",
    "    preds_svr.append(test_preds)\n",
    "    \n",
    "print('#'*25)\n",
    "print('SVR Overall CV RSME =',np.mean(scores))\n",
    "\n",
    "#0.4503113814624783\n",
    "#0.4498270488825874\n",
    "#0.44972946414396275"
   ]
  },
  {
   "cell_type": "code",
   "execution_count": 21,
   "id": "a9a73158",
   "metadata": {
    "execution": {
     "iopub.execute_input": "2022-09-24T08:06:21.644735Z",
     "iopub.status.busy": "2022-09-24T08:06:21.644381Z",
     "iopub.status.idle": "2022-09-24T08:06:21.651572Z",
     "shell.execute_reply": "2022-09-24T08:06:21.650561Z"
    },
    "papermill": {
     "duration": 0.298361,
     "end_time": "2022-09-24T08:06:21.654875",
     "exception": false,
     "start_time": "2022-09-24T08:06:21.356514",
     "status": "completed"
    },
    "tags": []
   },
   "outputs": [
    {
     "data": {
      "text/plain": [
       "'\\nparams_lgb = {\\n    \"n_estimators\": 1000,\\n    \"verbose\": -1\\n}\\n\\npreds_lgb,scores = [],[]\\nfor fold in range(FOLDS):\\n    print(\\'#\\'*25)\\n    print(\\'### Fold\\',fold+1)\\n    print(\\'#\\'*25)\\n    \\n    dftr_ = dftr[dftr[\"FOLD\"]!=fold]\\n    dfev_ = dftr[dftr[\"FOLD\"]==fold]\\n    \\n    tr_text_feats = all_train_text_feats[list(dftr_.index),:]\\n    ev_text_feats = all_train_text_feats[list(dfev_.index),:]\\n    \\n    ev_preds = np.zeros((len(ev_text_feats),6))\\n    test_preds = np.zeros((len(te_text_feats),6))\\n    \\n    clf = MultiOutputRegressor(LGBMRegressor(**params_lgb))\\n    clf.fit(tr_text_feats,dftr_[target_cols].values)\\n    \\n    ev_preds = clf.predict(ev_text_feats)\\n    test_preds = clf.predcit(te_text_feats)\\n    \\n    print()\\n    score = comp_score(dfev_[target_cols].values,ev_preds)\\n    scores.append(score)\\n    print(\"Fold : {} LGB RSME score: {}\".format(fold+1,score))\\n    preds_lgb.append(test_preds)\\n    \\nprint(\\'#\\'*25)\\nprint(\\'LGB Overall CV RSME =\\',np.mean(scores))\\n'"
      ]
     },
     "execution_count": 21,
     "metadata": {},
     "output_type": "execute_result"
    }
   ],
   "source": [
    "\"\"\"\n",
    "params_lgb = {\n",
    "    \"n_estimators\": 1000,\n",
    "    \"verbose\": -1\n",
    "}\n",
    "\n",
    "preds_lgb,scores = [],[]\n",
    "for fold in range(FOLDS):\n",
    "    print('#'*25)\n",
    "    print('### Fold',fold+1)\n",
    "    print('#'*25)\n",
    "    \n",
    "    dftr_ = dftr[dftr[\"FOLD\"]!=fold]\n",
    "    dfev_ = dftr[dftr[\"FOLD\"]==fold]\n",
    "    \n",
    "    tr_text_feats = all_train_text_feats[list(dftr_.index),:]\n",
    "    ev_text_feats = all_train_text_feats[list(dfev_.index),:]\n",
    "    \n",
    "    ev_preds = np.zeros((len(ev_text_feats),6))\n",
    "    test_preds = np.zeros((len(te_text_feats),6))\n",
    "    \n",
    "    clf = MultiOutputRegressor(LGBMRegressor(**params_lgb))\n",
    "    clf.fit(tr_text_feats,dftr_[target_cols].values)\n",
    "    \n",
    "    ev_preds = clf.predict(ev_text_feats)\n",
    "    test_preds = clf.predcit(te_text_feats)\n",
    "    \n",
    "    print()\n",
    "    score = comp_score(dfev_[target_cols].values,ev_preds)\n",
    "    scores.append(score)\n",
    "    print(\"Fold : {} LGB RSME score: {}\".format(fold+1,score))\n",
    "    preds_lgb.append(test_preds)\n",
    "    \n",
    "print('#'*25)\n",
    "print('LGB Overall CV RSME =',np.mean(scores))\n",
    "\"\"\""
   ]
  },
  {
   "cell_type": "code",
   "execution_count": 22,
   "id": "a79e4144",
   "metadata": {
    "execution": {
     "iopub.execute_input": "2022-09-24T08:06:22.025549Z",
     "iopub.status.busy": "2022-09-24T08:06:22.024418Z",
     "iopub.status.idle": "2022-09-24T08:06:22.032314Z",
     "shell.execute_reply": "2022-09-24T08:06:22.031319Z"
    },
    "papermill": {
     "duration": 0.19586,
     "end_time": "2022-09-24T08:06:22.034339",
     "exception": false,
     "start_time": "2022-09-24T08:06:21.838479",
     "status": "completed"
    },
    "tags": []
   },
   "outputs": [
    {
     "data": {
      "text/plain": [
       "'\\nparam = {\\'learning_rate\\': 0.3, \\n          \\'depth\\': 12, \\n          \\'l2_leaf_reg\\': 4, \\n          \\'loss_function\\': \\'MultiRMSE\\', \\n          \\'eval_metric\\': \\'MultiRMSE\\', \\n          \\'task_type\\': \\'GPU\\', \\n          \\'iterations\\': 20,\\n          \\'od_type\\': \\'Iter\\', \\n          \\'boosting_type\\': \\'Plain\\', \\n          \\'bootstrap_type\\': \\'Bayesian\\', \\n          \\'allow_const_label\\': True, \\n          \\'random_state\\': 1\\n         }\\n\\npreds_ctb,scores = [],[]\\nfor fold in range(FOLDS):\\n    print(\\'#\\'*25)\\n    print(\\'### Fold\\',fold+1)\\n    print(\\'#\\'*25)\\n    \\n    dftr_ = dftr[dftr[\"FOLD\"]!=fold]\\n    dfev_ = dftr[dftr[\"FOLD\"]==fold]\\n    \\n    tr_text_feats = all_train_text_feats[list(dftr_.index),:]\\n    ev_text_feats = all_train_text_feats[list(dfev_.index),:]\\n    \\n    ev_preds = np.zeros((len(ev_text_feats),6))\\n    test_preds = np.zeros((len(te_text_feats),6))\\n    \\n    clf = CatBoostRegressor(**param)\\n    clf.fit(tr_text_feats,dftr_[target_cols].values)\\n    \\n    ev_preds = clf.predict(ev_text_feats)\\n    test_preds = clf.predcit(te_text_feats)\\n    \\n    print()\\n    score = comp_score(dfev_[target_cols].values,ev_preds)\\n    scores.append(score)\\n    print(\"Fold : {} CTB RSME score: {}\".format(fold+1,score))\\n    preds_ctb.append(test_preds)\\n    \\nprint(\\'#\\'*25)\\nprint(\\'CTB Overall CV RSME =\\',np.mean(scores))\\n'"
      ]
     },
     "execution_count": 22,
     "metadata": {},
     "output_type": "execute_result"
    }
   ],
   "source": [
    "\"\"\"\n",
    "param = {'learning_rate': 0.3, \n",
    "          'depth': 12, \n",
    "          'l2_leaf_reg': 4, \n",
    "          'loss_function': 'MultiRMSE', \n",
    "          'eval_metric': 'MultiRMSE', \n",
    "          'task_type': 'GPU', \n",
    "          'iterations': 20,\n",
    "          'od_type': 'Iter', \n",
    "          'boosting_type': 'Plain', \n",
    "          'bootstrap_type': 'Bayesian', \n",
    "          'allow_const_label': True, \n",
    "          'random_state': 1\n",
    "         }\n",
    "\n",
    "preds_ctb,scores = [],[]\n",
    "for fold in range(FOLDS):\n",
    "    print('#'*25)\n",
    "    print('### Fold',fold+1)\n",
    "    print('#'*25)\n",
    "    \n",
    "    dftr_ = dftr[dftr[\"FOLD\"]!=fold]\n",
    "    dfev_ = dftr[dftr[\"FOLD\"]==fold]\n",
    "    \n",
    "    tr_text_feats = all_train_text_feats[list(dftr_.index),:]\n",
    "    ev_text_feats = all_train_text_feats[list(dfev_.index),:]\n",
    "    \n",
    "    ev_preds = np.zeros((len(ev_text_feats),6))\n",
    "    test_preds = np.zeros((len(te_text_feats),6))\n",
    "    \n",
    "    clf = CatBoostRegressor(**param)\n",
    "    clf.fit(tr_text_feats,dftr_[target_cols].values)\n",
    "    \n",
    "    ev_preds = clf.predict(ev_text_feats)\n",
    "    test_preds = clf.predcit(te_text_feats)\n",
    "    \n",
    "    print()\n",
    "    score = comp_score(dfev_[target_cols].values,ev_preds)\n",
    "    scores.append(score)\n",
    "    print(\"Fold : {} CTB RSME score: {}\".format(fold+1,score))\n",
    "    preds_ctb.append(test_preds)\n",
    "    \n",
    "print('#'*25)\n",
    "print('CTB Overall CV RSME =',np.mean(scores))\n",
    "\"\"\""
   ]
  },
  {
   "cell_type": "code",
   "execution_count": 23,
   "id": "908d683b",
   "metadata": {
    "execution": {
     "iopub.execute_input": "2022-09-24T08:06:22.406672Z",
     "iopub.status.busy": "2022-09-24T08:06:22.406316Z",
     "iopub.status.idle": "2022-09-24T08:06:55.556965Z",
     "shell.execute_reply": "2022-09-24T08:06:55.555961Z"
    },
    "papermill": {
     "duration": 33.342188,
     "end_time": "2022-09-24T08:06:55.560197",
     "exception": false,
     "start_time": "2022-09-24T08:06:22.218009",
     "status": "completed"
    },
    "tags": []
   },
   "outputs": [
    {
     "name": "stdout",
     "output_type": "stream",
     "text": [
      "#########################\n",
      "### Fold 1\n",
      "#########################\n",
      "\n",
      "Fold : 1 Ridge RSME score: 0.4476026372190703\n",
      "#########################\n",
      "### Fold 2\n",
      "#########################\n",
      "\n",
      "Fold : 2 Ridge RSME score: 0.434918266485601\n",
      "#########################\n",
      "### Fold 3\n",
      "#########################\n",
      "\n",
      "Fold : 3 Ridge RSME score: 0.4469181106030353\n",
      "#########################\n",
      "### Fold 4\n",
      "#########################\n",
      "\n",
      "Fold : 4 Ridge RSME score: 0.4589811628085369\n",
      "#########################\n",
      "### Fold 5\n",
      "#########################\n",
      "\n",
      "Fold : 5 Ridge RSME score: 0.4381220260340472\n",
      "#########################\n",
      "### Fold 6\n",
      "#########################\n",
      "\n",
      "Fold : 6 Ridge RSME score: 0.4441415692106971\n",
      "#########################\n",
      "### Fold 7\n",
      "#########################\n",
      "\n",
      "Fold : 7 Ridge RSME score: 0.45371817115424745\n",
      "#########################\n",
      "### Fold 8\n",
      "#########################\n",
      "\n",
      "Fold : 8 Ridge RSME score: 0.46229857791261714\n",
      "#########################\n",
      "### Fold 9\n",
      "#########################\n",
      "\n",
      "Fold : 9 Ridge RSME score: 0.44272149933160215\n",
      "#########################\n",
      "### Fold 10\n",
      "#########################\n",
      "\n",
      "Fold : 10 Ridge RSME score: 0.46716138333374774\n",
      "#########################\n",
      "### Fold 11\n",
      "#########################\n",
      "\n",
      "Fold : 11 Ridge RSME score: 0.44087261483854795\n",
      "#########################\n",
      "### Fold 12\n",
      "#########################\n",
      "\n",
      "Fold : 12 Ridge RSME score: 0.45666563015265954\n",
      "#########################\n",
      "### Fold 13\n",
      "#########################\n",
      "\n",
      "Fold : 13 Ridge RSME score: 0.4443584174470563\n",
      "#########################\n",
      "### Fold 14\n",
      "#########################\n",
      "\n",
      "Fold : 14 Ridge RSME score: 0.43740860473101745\n",
      "#########################\n",
      "### Fold 15\n",
      "#########################\n",
      "\n",
      "Fold : 15 Ridge RSME score: 0.46586117759957846\n",
      "#########################\n",
      "### Fold 16\n",
      "#########################\n",
      "\n",
      "Fold : 16 Ridge RSME score: 0.4578578043071173\n",
      "#########################\n",
      "### Fold 17\n",
      "#########################\n",
      "\n",
      "Fold : 17 Ridge RSME score: 0.4407376162967547\n",
      "#########################\n",
      "### Fold 18\n",
      "#########################\n",
      "\n",
      "Fold : 18 Ridge RSME score: 0.4439088369221404\n",
      "#########################\n",
      "### Fold 19\n",
      "#########################\n",
      "\n",
      "Fold : 19 Ridge RSME score: 0.44846605503595344\n",
      "#########################\n",
      "### Fold 20\n",
      "#########################\n",
      "\n",
      "Fold : 20 Ridge RSME score: 0.447207678616885\n",
      "#########################\n",
      "Ridge Overall CV RSME = 0.44899639200204566\n"
     ]
    }
   ],
   "source": [
    "preds_ridge,scores = [],[]\n",
    "for fold in range(FOLDS):\n",
    "    print('#'*25)\n",
    "    print('### Fold',fold+1)\n",
    "    print('#'*25)\n",
    "    \n",
    "    dftr_ = dftr[dftr[\"FOLD\"]!=fold]\n",
    "    dfev_ = dftr[dftr[\"FOLD\"]==fold]\n",
    "    \n",
    "    tr_text_feats = all_train_text_feats[list(dftr_.index),:]\n",
    "    ev_text_feats = all_train_text_feats[list(dfev_.index),:]\n",
    "    \n",
    "    ev_preds = np.zeros((len(ev_text_feats),6))\n",
    "    test_preds = np.zeros((len(te_text_feats),6))\n",
    "    \n",
    "    clf = Ridge(copy_X=False)\n",
    "    clf.fit(tr_text_feats,dftr_[target_cols].values)\n",
    "    \n",
    "    ev_preds = clf.predict(ev_text_feats)\n",
    "    test_preds = clf.predict(te_text_feats)\n",
    "    \n",
    "    print()\n",
    "    score = comp_score(dfev_[target_cols].values,ev_preds)\n",
    "    scores.append(score)\n",
    "    print(\"Fold : {} Ridge RSME score: {}\".format(fold+1,score))\n",
    "    preds_ridge.append(test_preds)\n",
    "    \n",
    "print('#'*25)\n",
    "print('Ridge Overall CV RSME =',np.mean(scores))"
   ]
  },
  {
   "cell_type": "code",
   "execution_count": 24,
   "id": "162fdf3c",
   "metadata": {
    "execution": {
     "iopub.execute_input": "2022-09-24T08:06:56.066356Z",
     "iopub.status.busy": "2022-09-24T08:06:56.065935Z",
     "iopub.status.idle": "2022-09-24T08:06:56.073064Z",
     "shell.execute_reply": "2022-09-24T08:06:56.072149Z"
    },
    "papermill": {
     "duration": 0.252592,
     "end_time": "2022-09-24T08:06:56.075263",
     "exception": false,
     "start_time": "2022-09-24T08:06:55.822671",
     "status": "completed"
    },
    "tags": []
   },
   "outputs": [
    {
     "data": {
      "text/plain": [
       "'\\npreds_xgb,scores = [],[]\\nfor fold in range(FOLDS):\\n    print(\\'#\\'*25)\\n    print(\\'### Fold\\',fold+1)\\n    print(\\'#\\'*25)\\n    \\n    dftr_ = dftr[dftr[\"FOLD\"]!=fold]\\n    dfev_ = dftr[dftr[\"FOLD\"]==fold]\\n    \\n    tr_text_feats = all_train_text_feats[list(dftr_.index),:]\\n    ev_text_feats = all_train_text_feats[list(dfev_.index),:]\\n    \\n    ev_preds = np.zeros((len(ev_text_feats),6))\\n    test_preds = np.zeros((len(te_text_feats),6))\\n    \\n    xgb_estimator = xgb.XGBRegressor(\\n        n_estimators=500, random_state=0, \\n        objective=\\'reg:squarederror\\')\\n    clf =  MultiOutputRegressor(xgb_estimator, n_jobs=2)\\n    clf.fit(tr_text_feats,dftr_[target_cols].values)\\n    \\n    ev_preds = clf.predict(ev_text_feats)\\n    test_preds = clf.predcit(te_text_feats)\\n    \\n    print()\\n    score = comp_score(dfev_[target_cols].values,ev_preds)\\n    scores.append(score)\\n    print(\"Fold : {} XGB RSME score: {}\".format(fold+1,score))\\n    preds_xgb.append(test_preds)\\n    \\nprint(\\'#\\'*25)\\nprint(\\'XGB Overall CV RSME =\\',np.mean(scores))\\n'"
      ]
     },
     "execution_count": 24,
     "metadata": {},
     "output_type": "execute_result"
    }
   ],
   "source": [
    "\"\"\"\n",
    "preds_xgb,scores = [],[]\n",
    "for fold in range(FOLDS):\n",
    "    print('#'*25)\n",
    "    print('### Fold',fold+1)\n",
    "    print('#'*25)\n",
    "    \n",
    "    dftr_ = dftr[dftr[\"FOLD\"]!=fold]\n",
    "    dfev_ = dftr[dftr[\"FOLD\"]==fold]\n",
    "    \n",
    "    tr_text_feats = all_train_text_feats[list(dftr_.index),:]\n",
    "    ev_text_feats = all_train_text_feats[list(dfev_.index),:]\n",
    "    \n",
    "    ev_preds = np.zeros((len(ev_text_feats),6))\n",
    "    test_preds = np.zeros((len(te_text_feats),6))\n",
    "    \n",
    "    xgb_estimator = xgb.XGBRegressor(\n",
    "        n_estimators=500, random_state=0, \n",
    "        objective='reg:squarederror')\n",
    "    clf =  MultiOutputRegressor(xgb_estimator, n_jobs=2)\n",
    "    clf.fit(tr_text_feats,dftr_[target_cols].values)\n",
    "    \n",
    "    ev_preds = clf.predict(ev_text_feats)\n",
    "    test_preds = clf.predcit(te_text_feats)\n",
    "    \n",
    "    print()\n",
    "    score = comp_score(dfev_[target_cols].values,ev_preds)\n",
    "    scores.append(score)\n",
    "    print(\"Fold : {} XGB RSME score: {}\".format(fold+1,score))\n",
    "    preds_xgb.append(test_preds)\n",
    "    \n",
    "print('#'*25)\n",
    "print('XGB Overall CV RSME =',np.mean(scores))\n",
    "\"\"\""
   ]
  },
  {
   "cell_type": "code",
   "execution_count": 25,
   "id": "713de0c8",
   "metadata": {
    "execution": {
     "iopub.execute_input": "2022-09-24T08:06:56.454835Z",
     "iopub.status.busy": "2022-09-24T08:06:56.454479Z",
     "iopub.status.idle": "2022-09-24T08:06:56.473111Z",
     "shell.execute_reply": "2022-09-24T08:06:56.472211Z"
    },
    "papermill": {
     "duration": 0.211131,
     "end_time": "2022-09-24T08:06:56.475149",
     "exception": false,
     "start_time": "2022-09-24T08:06:56.264018",
     "status": "completed"
    },
    "tags": []
   },
   "outputs": [],
   "source": [
    "sub = dfte.copy()\n",
    "\n",
    "preds_svr = np.average(np.array(preds_svr),axis=0) \n",
    "#preds_lgb = np.average(np.array(preds_lgb),axis=0) \n",
    "#preds_ctb = np.average(np.array(preds_ctb),axis=0) \n",
    "preds_ridge = np.average(np.array(preds_ridge),axis=0) \n",
    "#preds_xgb = np.average(np.array(preds_xgb),axis=0) \n",
    "\n",
    "#preds = (preds_svr+preds_lgb+preds_ctb+preds_ridge+preds_xgb) / 5\n",
    "preds = (preds_svr + preds_ridge) / 2\n",
    "\n",
    "sub.loc[:,target_cols] = preds #,weights=[1/s for s in scores]\n",
    "sub_columns = pd.read_csv(\"../input/feedback-prize-english-language-learning/sample_submission.csv\").columns\n",
    "sub = sub[sub_columns]"
   ]
  },
  {
   "cell_type": "code",
   "execution_count": 26,
   "id": "c5422479",
   "metadata": {
    "execution": {
     "iopub.execute_input": "2022-09-24T08:06:56.845846Z",
     "iopub.status.busy": "2022-09-24T08:06:56.845380Z",
     "iopub.status.idle": "2022-09-24T08:06:56.864101Z",
     "shell.execute_reply": "2022-09-24T08:06:56.862819Z"
    },
    "papermill": {
     "duration": 0.20667,
     "end_time": "2022-09-24T08:06:56.866184",
     "exception": false,
     "start_time": "2022-09-24T08:06:56.659514",
     "status": "completed"
    },
    "tags": []
   },
   "outputs": [
    {
     "data": {
      "text/html": [
       "<div>\n",
       "<style scoped>\n",
       "    .dataframe tbody tr th:only-of-type {\n",
       "        vertical-align: middle;\n",
       "    }\n",
       "\n",
       "    .dataframe tbody tr th {\n",
       "        vertical-align: top;\n",
       "    }\n",
       "\n",
       "    .dataframe thead th {\n",
       "        text-align: right;\n",
       "    }\n",
       "</style>\n",
       "<table border=\"1\" class=\"dataframe\">\n",
       "  <thead>\n",
       "    <tr style=\"text-align: right;\">\n",
       "      <th></th>\n",
       "      <th>text_id</th>\n",
       "      <th>cohesion</th>\n",
       "      <th>syntax</th>\n",
       "      <th>vocabulary</th>\n",
       "      <th>phraseology</th>\n",
       "      <th>grammar</th>\n",
       "      <th>conventions</th>\n",
       "    </tr>\n",
       "  </thead>\n",
       "  <tbody>\n",
       "    <tr>\n",
       "      <th>0</th>\n",
       "      <td>0000C359D63E</td>\n",
       "      <td>2.965499</td>\n",
       "      <td>2.807350</td>\n",
       "      <td>3.107749</td>\n",
       "      <td>2.945246</td>\n",
       "      <td>2.701411</td>\n",
       "      <td>2.628007</td>\n",
       "    </tr>\n",
       "    <tr>\n",
       "      <th>1</th>\n",
       "      <td>000BAD50D026</td>\n",
       "      <td>2.676260</td>\n",
       "      <td>2.482753</td>\n",
       "      <td>2.700457</td>\n",
       "      <td>2.308062</td>\n",
       "      <td>2.025922</td>\n",
       "      <td>2.647466</td>\n",
       "    </tr>\n",
       "    <tr>\n",
       "      <th>2</th>\n",
       "      <td>00367BB2546B</td>\n",
       "      <td>3.648740</td>\n",
       "      <td>3.477241</td>\n",
       "      <td>3.602064</td>\n",
       "      <td>3.630826</td>\n",
       "      <td>3.401620</td>\n",
       "      <td>3.336625</td>\n",
       "    </tr>\n",
       "  </tbody>\n",
       "</table>\n",
       "</div>"
      ],
      "text/plain": [
       "        text_id  cohesion    syntax  vocabulary  phraseology   grammar  \\\n",
       "0  0000C359D63E  2.965499  2.807350    3.107749     2.945246  2.701411   \n",
       "1  000BAD50D026  2.676260  2.482753    2.700457     2.308062  2.025922   \n",
       "2  00367BB2546B  3.648740  3.477241    3.602064     3.630826  3.401620   \n",
       "\n",
       "   conventions  \n",
       "0     2.628007  \n",
       "1     2.647466  \n",
       "2     3.336625  "
      ]
     },
     "execution_count": 26,
     "metadata": {},
     "output_type": "execute_result"
    }
   ],
   "source": [
    "sub.to_csv(\"submission.csv\",index=None)\n",
    "sub.head()"
   ]
  }
 ],
 "metadata": {
  "kernelspec": {
   "display_name": "Python 3",
   "language": "python",
   "name": "python3"
  },
  "language_info": {
   "codemirror_mode": {
    "name": "ipython",
    "version": 3
   },
   "file_extension": ".py",
   "mimetype": "text/x-python",
   "name": "python",
   "nbconvert_exporter": "python",
   "pygments_lexer": "ipython3",
   "version": "3.7.12"
  },
  "papermill": {
   "default_parameters": {},
   "duration": 2831.829032,
   "end_time": "2022-09-24T08:07:00.413194",
   "environment_variables": {},
   "exception": null,
   "input_path": "__notebook__.ipynb",
   "output_path": "__notebook__.ipynb",
   "parameters": {},
   "start_time": "2022-09-24T07:19:48.584162",
   "version": "2.3.4"
  }
 },
 "nbformat": 4,
 "nbformat_minor": 5
}
